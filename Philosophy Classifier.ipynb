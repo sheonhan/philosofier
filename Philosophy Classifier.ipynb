{
 "cells": [
  {
   "cell_type": "code",
   "execution_count": 2,
   "metadata": {
    "collapsed": false
   },
   "outputs": [
    {
     "data": {
      "text/plain": [
       "['authoritarian', 'democratic', 'utilitarianism', 'virtue']"
      ]
     },
     "execution_count": 2,
     "metadata": {},
     "output_type": "execute_result"
    }
   ],
   "source": [
    "import os\n",
    "import sklearn.datasets\n",
    "phi_train = sklearn.datasets.load_files('datasets/phi_train/')\n",
    "# Name of categories\n",
    "phi_train.target_names"
   ]
  },
  {
   "cell_type": "code",
   "execution_count": 3,
   "metadata": {
    "collapsed": false
   },
   "outputs": [
    {
     "data": {
      "text/plain": [
       "(840, 27724)"
      ]
     },
     "execution_count": 3,
     "metadata": {},
     "output_type": "execute_result"
    }
   ],
   "source": [
    "# Tokenization\n",
    "from sklearn.feature_extraction.text import CountVectorizer\n",
    "count_vect = CountVectorizer(decode_error=u'ignore')\n",
    "X_train_counts = count_vect.fit_transform(phi_train.data)\n",
    "X_train_counts.shape"
   ]
  },
  {
   "cell_type": "code",
   "execution_count": 4,
   "metadata": {
    "collapsed": false
   },
   "outputs": [
    {
     "data": {
      "text/plain": [
       "(840, 27724)"
      ]
     },
     "execution_count": 4,
     "metadata": {},
     "output_type": "execute_result"
    }
   ],
   "source": [
    "# Features\n",
    "from sklearn.feature_extraction.text import TfidfTransformer\n",
    "tfidf_transformer = TfidfTransformer()\n",
    "X_train_tfidf = tfidf_transformer.fit_transform(X_train_counts)\n",
    "X_train_tfidf.shape"
   ]
  },
  {
   "cell_type": "code",
   "execution_count": 5,
   "metadata": {
    "collapsed": false
   },
   "outputs": [],
   "source": [
    "# Training a classifier\n",
    "from sklearn.naive_bayes import MultinomialNB\n",
    "clf = MultinomialNB().fit(X_train_tfidf, phi_train.target)"
   ]
  },
  {
   "cell_type": "code",
   "execution_count": 6,
   "metadata": {
    "collapsed": false
   },
   "outputs": [],
   "source": [
    "# Pipeline\n",
    "from sklearn.pipeline import Pipeline\n",
    "text_clf = Pipeline([('vect', CountVectorizer(decode_error='ignore')),\n",
    "                      ('tfidf', TfidfTransformer()),\n",
    "                      ('clf', MultinomialNB()),])\n",
    "text_clf = text_clf.fit(phi_train.data, phi_train.target)"
   ]
  },
  {
   "cell_type": "code",
   "execution_count": 7,
   "metadata": {
    "collapsed": false
   },
   "outputs": [
    {
     "data": {
      "text/plain": [
       "0.79333333333333333"
      ]
     },
     "execution_count": 7,
     "metadata": {},
     "output_type": "execute_result"
    }
   ],
   "source": [
    "# Evaluate: Predict accuracy\n",
    "import numpy as np\n",
    "phi_test = sklearn.datasets.load_files('datasets/phi_test/')\n",
    "predicted = text_clf.predict(phi_test.data)\n",
    "np.mean(predicted == phi_test.target)"
   ]
  },
  {
   "cell_type": "code",
   "execution_count": 8,
   "metadata": {
    "collapsed": false
   },
   "outputs": [
    {
     "data": {
      "text/plain": [
       "0.84666666666666668"
      ]
     },
     "execution_count": 8,
     "metadata": {},
     "output_type": "execute_result"
    }
   ],
   "source": [
    "# SVM\n",
    "from sklearn.linear_model import SGDClassifier\n",
    "text_clf = Pipeline([('vect', CountVectorizer(decode_error='ignore')),\n",
    "                      ('tfidf', TfidfTransformer()),\n",
    "                      ('clf', SGDClassifier(loss='hinge', penalty='l2',\n",
    "                                            alpha=1e-3, n_iter=5, random_state=42))\n",
    "                     ])\n",
    "text_clf = text_clf.fit(phi_train.data, phi_train.target)\n",
    "predicted = text_clf.predict(phi_test.data)\n",
    "np.mean(predicted == phi_test.target)"
   ]
  },
  {
   "cell_type": "code",
   "execution_count": 9,
   "metadata": {
    "collapsed": false
   },
   "outputs": [
    {
     "name": "stdout",
     "output_type": "stream",
     "text": [
      "                precision    recall  f1-score   support\n",
      "\n",
      " authoritarian       0.57      0.93      0.71        30\n",
      "    democratic       1.00      0.67      0.80        30\n",
      "utilitarianism       1.00      0.82      0.90        60\n",
      "        virtue       0.94      1.00      0.97        30\n",
      "\n",
      "   avg / total       0.90      0.85      0.85       150\n",
      "\n"
     ]
    },
    {
     "data": {
      "text/plain": [
       "array([[28,  0,  0,  2],\n",
       "       [10, 20,  0,  0],\n",
       "       [11,  0, 49,  0],\n",
       "       [ 0,  0,  0, 30]])"
      ]
     },
     "execution_count": 9,
     "metadata": {},
     "output_type": "execute_result"
    }
   ],
   "source": [
    "from sklearn import metrics\n",
    "print(metrics.classification_report(phi_test.target, predicted, \n",
    "                                    target_names=phi_test.target_names))\n",
    "metrics.confusion_matrix(phi_test.target, predicted)"
   ]
  },
  {
   "cell_type": "code",
   "execution_count": 10,
   "metadata": {
    "collapsed": false
   },
   "outputs": [
    {
     "name": "stdout",
     "output_type": "stream",
     "text": [
      "{'utilitarianism': 49, 'democratic': 20, 'authoritarian': 49, 'virtue': 32}\n"
     ]
    }
   ],
   "source": [
    "# Testing test sets\n",
    "result = {'utilitarianism' : 0, 'authoritarian': 0, 'democratic': 0,\n",
    "         'virtue': 0}\n",
    "for instance, category in zip(phi_test.data, predicted):\n",
    "    result[phi_test.target_names[category]] += 1\n",
    "print result"
   ]
  },
  {
   "cell_type": "code",
   "execution_count": 11,
   "metadata": {
    "collapsed": false
   },
   "outputs": [
    {
     "name": "stdout",
     "output_type": "stream",
     "text": [
      "Number of instances in bible 677\n",
      "Result of bible\n",
      "('utilitarianism', 2.2156573116691285)\n",
      "('democratic', 0.0)\n",
      "('authoritarian', 74.44608567208272)\n",
      "('virtue', 23.338257016248154)\n"
     ]
    }
   ],
   "source": [
    "# Testing bible\n",
    "path = 'datasets/bible/'\n",
    "root = '/Users/Sheon/nlp/datasets/bible/'\n",
    "bible = []\n",
    "for filename in os.listdir(path):\n",
    "    f = open(os.path.join(root, filename), 'r')\n",
    "    bible.append(f.read())\n",
    "predicted = text_clf.predict(bible)\n",
    "result = {'utilitarianism': 0, 'authoritarian': 0, 'democratic': 0,\n",
    "         'virtue': 0}\n",
    "count = 0\n",
    "for instance, category in zip(bible, predicted):\n",
    "    result[phi_train.target_names[category]] += 1\n",
    "    count += 1\n",
    "print \"Number of instances in \" + filename[:-3] + \" \" + str(count)\n",
    "print \"Result of \" + filename[:-3]\n",
    "for key, value in result.items():\n",
    "    result[key] = value / float(count) * 100\n",
    "    print (key, result[key])"
   ]
  },
  {
   "cell_type": "code",
   "execution_count": 12,
   "metadata": {
    "collapsed": false
   },
   "outputs": [
    {
     "name": "stdout",
     "output_type": "stream",
     "text": [
      "59\n",
      "{'utilitarianism': 2, 'democratic': 0, 'authoritarian': 44, 'virtue': 13}\n",
      "Obama\n",
      "('utilitarianism', 3.389830508474576)\n",
      "('democratic', 0.0)\n",
      "('authoritarian', 74.57627118644068)\n",
      "('virtue', 22.033898305084744)\n"
     ]
    }
   ],
   "source": [
    "# testing Obama\n",
    "path = 'datasets/obama/'\n",
    "root = '/Users/Sheon/nlp/datasets/obama/'\n",
    "obama = []\n",
    "for filename in os.listdir(path):\n",
    "    f = open(os.path.join(root, filename), 'r')\n",
    "    obama.append(f.read())\n",
    "print len(obama)\n",
    "predicted = text_clf.predict(obama)\n",
    "# Count\n",
    "\n",
    "result = {'utilitarianism': 0, 'authoritarian': 0, 'democratic': 0,\n",
    "         'virtue': 0}\n",
    "count = 0\n",
    "for instance, category in zip(obama, predicted):\n",
    "    result[phi_train.target_names[category]] += 1\n",
    "    count += 1\n",
    "print result\n",
    "print \"Obama\"\n",
    "for key, value in result.items():\n",
    "    result[key] = value / float(count) * 100\n",
    "    print (key, result[key])"
   ]
  },
  {
   "cell_type": "code",
   "execution_count": 13,
   "metadata": {
    "collapsed": false
   },
   "outputs": [
    {
     "name": "stdout",
     "output_type": "stream",
     "text": [
      "47\n",
      "{'utilitarianism': 1, 'democratic': 0, 'authoritarian': 28, 'virtue': 18}\n",
      "Bush\n",
      "Count: 47\n",
      "('utilitarianism', 2.127659574468085)\n",
      "('democratic', 0.0)\n",
      "('authoritarian', 59.57446808510638)\n",
      "('virtue', 38.297872340425535)\n"
     ]
    }
   ],
   "source": [
    "# testing Bush\n",
    "path = 'datasets/bush/'\n",
    "root = '/Users/Sheon/nlp/datasets/bush/'\n",
    "bush = []\n",
    "for filename in os.listdir(path):\n",
    "    f = open(os.path.join(root, filename), 'r')\n",
    "    bush.append(f.read())\n",
    "print len(bush)\n",
    "predicted = text_clf.predict(bush)\n",
    "\n",
    "result = {'utilitarianism': 0, 'authoritarian': 0, 'democratic': 0,\n",
    "         'virtue': 0}\n",
    "count = 0\n",
    "for instance, category in zip(bush, predicted):\n",
    "    result[phi_train.target_names[category]] += 1\n",
    "    count += 1\n",
    "print result\n",
    "print \"Bush\"\n",
    "print \"Count: \" + str(count)\n",
    "for key, value in result.items():\n",
    "    result[key] = value / float(count) * 100\n",
    "    print (key, result[key])"
   ]
  },
  {
   "cell_type": "code",
   "execution_count": 14,
   "metadata": {
    "collapsed": false
   },
   "outputs": [
    {
     "name": "stdout",
     "output_type": "stream",
     "text": [
      "{'utilitarianism': 281, 'democratic': 0, 'authoritarian': 1, 'virtue': 12}\n",
      "Count: 294\n",
      "('utilitarianism', 95.578231292517)\n",
      "('democratic', 0.0)\n",
      "('authoritarian', 0.3401360544217687)\n",
      "('virtue', 4.081632653061225)\n"
     ]
    }
   ],
   "source": [
    "# testing Wolf of Wall Street\n",
    "path = 'datasets/ws/'\n",
    "root = '/Users/Sheon/nlp/datasets/ws/'\n",
    "wolf = []\n",
    "for filename in os.listdir(path):\n",
    "    f = open(os.path.join(root, filename), 'r')\n",
    "    wolf.append(f.read())\n",
    "predicted = text_clf.predict(wolf)\n",
    "\n",
    "result = {'utilitarianism': 0, 'authoritarian': 0, 'democratic': 0,\n",
    "         'virtue': 0}\n",
    "count = 0\n",
    "for instance, category in zip(wolf, predicted):\n",
    "    result[phi_train.target_names[category]] += 1\n",
    "    count += 1\n",
    "print result\n",
    "print \"Count: \" + str(count)\n",
    "for key, value in result.items():\n",
    "    result[key] = value / float(count) * 100\n",
    "    print (key, result[key])"
   ]
  },
  {
   "cell_type": "code",
   "execution_count": 15,
   "metadata": {
    "collapsed": false
   },
   "outputs": [
    {
     "name": "stdout",
     "output_type": "stream",
     "text": [
      "{'utilitarianism': 1, 'democratic': 1, 'authoritarian': 52, 'virtue': 39}\n",
      "Count: 93\n",
      "('utilitarianism', 1.0752688172043012)\n",
      "('democratic', 1.0752688172043012)\n",
      "('authoritarian', 55.91397849462365)\n",
      "('virtue', 41.935483870967744)\n"
     ]
    }
   ],
   "source": [
    "# testing democrats nomination\n",
    "path = 'input/nomination_democrats/'\n",
    "root = '/Users/Sheon/nlp/input/nomination_democrats/'\n",
    "democrats_nomination = []\n",
    "for filename in os.listdir(path):\n",
    "    f = open(os.path.join(root, filename), 'r')\n",
    "    democrats_nomination.append(f.read())\n",
    "predicted = text_clf.predict(democrats_nomination)\n",
    "\n",
    "result = {'utilitarianism': 0, 'authoritarian': 0, 'democratic': 0,\n",
    "         'virtue': 0}\n",
    "count = 0\n",
    "for instance, category in zip(democrats_nomination, predicted):\n",
    "    result[phi_train.target_names[category]] += 1\n",
    "    count += 1\n",
    "print result\n",
    "print \"Count: \" + str(count)\n",
    "for key, value in result.items():\n",
    "    result[key] = value / float(count) * 100\n",
    "    print (key, result[key])"
   ]
  },
  {
   "cell_type": "code",
   "execution_count": 16,
   "metadata": {
    "collapsed": false
   },
   "outputs": [
    {
     "name": "stdout",
     "output_type": "stream",
     "text": [
      "{'utilitarianism': 0, 'democratic': 6, 'authoritarian': 68, 'virtue': 47}\n",
      "Count: 121\n",
      "('utilitarianism', 0.0)\n",
      "('democratic', 4.958677685950414)\n",
      "('authoritarian', 56.19834710743802)\n",
      "('virtue', 38.84297520661157)\n"
     ]
    }
   ],
   "source": [
    "# testing republican nomination\n",
    "path = 'input/nomination_republican//'\n",
    "root = '/Users/Sheon/nlp/input/nomination_republican/'\n",
    "republican_nomination = []\n",
    "for filename in os.listdir(path):\n",
    "    f = open(os.path.join(root, filename), 'r')\n",
    "    republican_nomination.append(f.read())\n",
    "predicted = text_clf.predict(republican_nomination)\n",
    "\n",
    "result = {'utilitarianism': 0, 'authoritarian': 0, 'democratic': 0,\n",
    "         'virtue': 0}\n",
    "count = 0\n",
    "for instance, category in zip(republican_nomination, predicted):\n",
    "    result[phi_train.target_names[category]] += 1\n",
    "    count += 1\n",
    "print result\n",
    "print \"Count: \" + str(count)\n",
    "for key, value in result.items():\n",
    "    result[key] = value / float(count) * 100\n",
    "    print (key, result[key])"
   ]
  },
  {
   "cell_type": "code",
   "execution_count": 17,
   "metadata": {
    "collapsed": false
   },
   "outputs": [
    {
     "name": "stdout",
     "output_type": "stream",
     "text": [
      "{'utilitarianism': 18, 'democratic': 0, 'authoritarian': 53, 'virtue': 30}\n",
      "Count: 101\n",
      "('utilitarianism', 17.82178217821782)\n",
      "('democratic', 0.0)\n",
      "('authoritarian', 52.475247524752476)\n",
      "('virtue', 29.7029702970297)\n"
     ]
    }
   ],
   "source": [
    "# testing trump nomination\n",
    "path = 'input/trump_speeches/'\n",
    "root = '/Users/Sheon/nlp/input/trump_speeches/'\n",
    "trump_speeches = []\n",
    "for filename in os.listdir(path):\n",
    "    f = open(os.path.join(root, filename), 'r')\n",
    "    trump_speeches.append(f.read())\n",
    "predicted = text_clf.predict(trump_speeches)\n",
    "\n",
    "result = {'utilitarianism': 0, 'authoritarian': 0, 'democratic': 0,\n",
    "         'virtue': 0}\n",
    "count = 0\n",
    "for instance, category in zip(trump_speeches, predicted):\n",
    "    result[phi_train.target_names[category]] += 1\n",
    "    count += 1\n",
    "print result\n",
    "print \"Count: \" + str(count)\n",
    "for key, value in result.items():\n",
    "    result[key] = value / float(count) * 100\n",
    "    print (key, result[key])"
   ]
  },
  {
   "cell_type": "code",
   "execution_count": 21,
   "metadata": {
    "collapsed": false
   },
   "outputs": [
    {
     "name": "stdout",
     "output_type": "stream",
     "text": [
      "<type 'list'>\n",
      "101\n",
      "{'utilitarianism': 4, 'democratic': 0, 'authoritarian': 30, 'virtue': 67}\n",
      "Count: 101\n",
      "('utilitarianism', 3.9603960396039604)\n",
      "('democratic', 0.0)\n",
      "('authoritarian', 29.7029702970297)\n",
      "('virtue', 66.33663366336634)\n"
     ]
    }
   ],
   "source": [
    "# testing hillary nomination\n",
    "path = 'input/hillary/'\n",
    "root = '/Users/Sheon/nlp/input/hillary/'\n",
    "hillary = []\n",
    "for filename in os.listdir(path):\n",
    "    f = open(os.path.join(root, filename), 'r')\n",
    "    hillary.append(f.read())\n",
    "predicted = text_clf.predict(hillary)\n",
    "\n",
    "result = {'utilitarianism': 0, 'authoritarian': 0, 'democratic': 0,\n",
    "         'virtue': 0}\n",
    "count = 0\n",
    "for instance, category in zip(hillary, predicted):\n",
    "    result[phi_train.target_names[category]] += 1\n",
    "    count += 1\n",
    "print result\n",
    "print \"Count: \" + str(count)\n",
    "for key, value in result.items():\n",
    "    result[key] = value / float(count) * 100\n",
    "    print (key, result[key])"
   ]
  },
  {
   "cell_type": "code",
   "execution_count": 73,
   "metadata": {
    "collapsed": false
   },
   "outputs": [
    {
     "name": "stdout",
     "output_type": "stream",
     "text": [
      "Carter\n",
      "Clinton\n",
      "Coolidge\n",
      "Eisenhower\n",
      "FDR\n",
      "Ford\n",
      "Harding\n",
      "Hbush\n",
      "Hoover\n",
      "Johnson\n",
      "Kennedy\n",
      "Nixon\n",
      "Obama\n",
      "Reagan\n",
      "Taft\n",
      "TDR\n",
      "Truman\n",
      "Wbush\n",
      "WWS\n"
     ]
    }
   ],
   "source": [
    "# testing democrats nomination\n",
    "path = '/Users/Sheon/nlp/input/presidents/'\n",
    "target = open('/Users/Sheon/nlp/input/presidents/sou_result.json', 'w')\n",
    "\n",
    "for dirname in os.listdir(path):\n",
    "    if (dirname == \".DS_Store\" or dirname == \"sou_result.json\"): continue \n",
    "    pathPres = path + dirname\n",
    "    president = []\n",
    "    for filename in os.listdir(pathPres):\n",
    "        f = open(os.path.join(pathPres, filename), 'r')\n",
    "        president.append(f.read())\n",
    "    predicted = text_clf.predict(president)\n",
    "    \n",
    "    result = {'utilitarianism': 0, 'authoritarian': 0, 'democratic': 0, 'virtue': 0}\n",
    "    count = 0\n",
    "    for instance, category in zip(president, predicted):\n",
    "        result[phi_train.target_names[category]] += 1\n",
    "        count += 1\n",
    "    print str(dirname)\n",
    "    # print result\n",
    "    # print \"Count: \" + str(count)\n",
    "    for key, value in result.items():\n",
    "        result[key] = value / float(count) * 100\n",
    "        #print (key, result[key])\n",
    "    target.write(str(result))\n",
    "    target.write(', ')\n",
    "    # print result\n"
   ]
  },
  {
   "cell_type": "code",
   "execution_count": 77,
   "metadata": {
    "collapsed": false
   },
   "outputs": [
    {
     "name": "stdout",
     "output_type": "stream",
     "text": [
      "Adams\n",
      "J.Q.Adams\n",
      "Jackson\n",
      "Jefferson\n",
      "Madison\n",
      "Monroe\n"
     ]
    },
    {
     "ename": "OSError",
     "evalue": "[Errno 20] Not a directory: '/Users/Sheon/nlp/input/old_presidents//sou_rel_result.json'",
     "output_type": "error",
     "traceback": [
      "\u001b[0;31m---------------------------------------------------------------------------\u001b[0m",
      "\u001b[0;31mOSError\u001b[0m                                   Traceback (most recent call last)",
      "\u001b[0;32m<ipython-input-77-45b14d69acb4>\u001b[0m in \u001b[0;36m<module>\u001b[0;34m()\u001b[0m\n\u001b[1;32m      7\u001b[0m     \u001b[0mpathPres\u001b[0m \u001b[0;34m=\u001b[0m \u001b[0mpath\u001b[0m \u001b[0;34m+\u001b[0m \u001b[0mdirname\u001b[0m\u001b[0;34m\u001b[0m\u001b[0m\n\u001b[1;32m      8\u001b[0m     \u001b[0mpresident\u001b[0m \u001b[0;34m=\u001b[0m \u001b[0;34m[\u001b[0m\u001b[0;34m]\u001b[0m\u001b[0;34m\u001b[0m\u001b[0m\n\u001b[0;32m----> 9\u001b[0;31m     \u001b[0;32mfor\u001b[0m \u001b[0mfilename\u001b[0m \u001b[0;32min\u001b[0m \u001b[0mos\u001b[0m\u001b[0;34m.\u001b[0m\u001b[0mlistdir\u001b[0m\u001b[0;34m(\u001b[0m\u001b[0mpathPres\u001b[0m\u001b[0;34m)\u001b[0m\u001b[0;34m:\u001b[0m\u001b[0;34m\u001b[0m\u001b[0m\n\u001b[0m\u001b[1;32m     10\u001b[0m         \u001b[0mf\u001b[0m \u001b[0;34m=\u001b[0m \u001b[0mopen\u001b[0m\u001b[0;34m(\u001b[0m\u001b[0mos\u001b[0m\u001b[0;34m.\u001b[0m\u001b[0mpath\u001b[0m\u001b[0;34m.\u001b[0m\u001b[0mjoin\u001b[0m\u001b[0;34m(\u001b[0m\u001b[0mpathPres\u001b[0m\u001b[0;34m,\u001b[0m \u001b[0mfilename\u001b[0m\u001b[0;34m)\u001b[0m\u001b[0;34m,\u001b[0m \u001b[0;34m'r'\u001b[0m\u001b[0;34m)\u001b[0m\u001b[0;34m\u001b[0m\u001b[0m\n\u001b[1;32m     11\u001b[0m         \u001b[0mpresident\u001b[0m\u001b[0;34m.\u001b[0m\u001b[0mappend\u001b[0m\u001b[0;34m(\u001b[0m\u001b[0mf\u001b[0m\u001b[0;34m.\u001b[0m\u001b[0mread\u001b[0m\u001b[0;34m(\u001b[0m\u001b[0;34m)\u001b[0m\u001b[0;34m)\u001b[0m\u001b[0;34m\u001b[0m\u001b[0m\n",
      "\u001b[0;31mOSError\u001b[0m: [Errno 20] Not a directory: '/Users/Sheon/nlp/input/old_presidents//sou_rel_result.json'"
     ]
    }
   ],
   "source": [
    "# testing democrats nomination\n",
    "path = '/Users/Sheon/nlp/input/old_presidents//'\n",
    "target = open('/Users/Sheon/nlp/input/old_presidents/sou_result.json', 'w')\n",
    "\n",
    "for dirname in os.listdir(path):\n",
    "    if (dirname == \".DS_Store\" or dirname == \"sou_result.json\"): continue \n",
    "    pathPres = path + dirname\n",
    "    president = []\n",
    "    for filename in os.listdir(pathPres):\n",
    "        f = open(os.path.join(pathPres, filename), 'r')\n",
    "        president.append(f.read())\n",
    "    predicted = text_clf.predict(president)\n",
    "    \n",
    "    result = {'utilitarianism': 0, 'authoritarian': 0, 'democratic': 0, 'virtue': 0}\n",
    "    count = 0\n",
    "    for instance, category in zip(president, predicted):\n",
    "        result[phi_train.target_names[category]] += 1\n",
    "        count += 1\n",
    "    print str(dirname)\n",
    "    # print result\n",
    "    # print \"Count: \" + str(count)\n",
    "    for key, value in result.items():\n",
    "        result[key] = value / float(count) * 100\n",
    "        #print (key, result[key])\n",
    "    target.write(str(result))\n",
    "    target.write(', ')\n",
    "    # print result\n"
   ]
  },
  {
   "cell_type": "code",
   "execution_count": 76,
   "metadata": {
    "collapsed": true
   },
   "outputs": [],
   "source": [
    "target.write('hi')"
   ]
  },
  {
   "cell_type": "code",
   "execution_count": null,
   "metadata": {
    "collapsed": true
   },
   "outputs": [],
   "source": []
  }
 ],
 "metadata": {
  "anaconda-cloud": {},
  "kernelspec": {
   "display_name": "Python [conda env:python2]",
   "language": "python",
   "name": "conda-env-python2-py"
  },
  "language_info": {
   "codemirror_mode": {
    "name": "ipython",
    "version": 2
   },
   "file_extension": ".py",
   "mimetype": "text/x-python",
   "name": "python",
   "nbconvert_exporter": "python",
   "pygments_lexer": "ipython2",
   "version": "2.7.12"
  }
 },
 "nbformat": 4,
 "nbformat_minor": 1
}
